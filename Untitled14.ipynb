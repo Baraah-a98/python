{
 "cells": [
  {
   "cell_type": "code",
   "execution_count": null,
   "id": "325605d1-c509-43c8-bbcc-c5cd1cd15791",
   "metadata": {},
   "outputs": [],
   "source": []
  },
  {
   "cell_type": "markdown",
   "id": "028b75ca-efc5-45ff-bdc7-ec657ff39485",
   "metadata": {},
   "source": [
    "<h2 style=\"color: purple;\">Libraries</h2>\n",
    "<hr style=\"border: 3px solid purple;\" />"
   ]
  },
  {
   "cell_type": "markdown",
   "id": "644a4e2e-f22e-4c34-b8f0-6045eca21749",
   "metadata": {},
   "source": [
    "Python Collections (Arrays)\n",
    "\n",
    "There are four collection data types in the Python programming language:\n",
    "\n",
    "•\tList is a collection which is ordered and changeable. Allows duplicate members.\n",
    "•\tTuple is a collection which is ordered and unchangeable. Allows duplicate members.\n",
    "•\tSet is a collection which is unordered, unchangeable*, and unindexed. No duplicate members.\n",
    "•\tDictionary is a collection which is ordered** and changeable. No duplicate members.\n",
    "\n"
   ]
  },
  {
   "cell_type": "markdown",
   "id": "e605b797-0aec-4090-81ed-342f568ac45a",
   "metadata": {},
   "source": [
    "A list is one of the most common and basic data structures in python that you can create a list with square brackets with comma separated values. Lists can be made of elements of any type. It can contain integers, strings, floats, or any other type. Lists can also contain a combination of types. Ex: [2, \"Hello\", 2.5] \n",
    "Empty lists can be defined in two ways: \n",
    "\n",
    "• list_1 = [] \n",
    "• list_1 = list ()\n"
   ]
  },
  {
   "cell_type": "code",
   "execution_count": 5,
   "id": "7c15ef3e-cdfd-47cc-8b0c-0d26bde73842",
   "metadata": {},
   "outputs": [
    {
     "name": "stdout",
     "output_type": "stream",
     "text": [
      "['apple', 'banana', 'cherry', 'apple', 'cherry']\n"
     ]
    }
   ],
   "source": [
    "thislist = [\"apple\", \"banana\", \"cherry\", \"apple\", \"cherry\"]\n",
    "print(thislist)\n"
   ]
  },
  {
   "cell_type": "code",
   "execution_count": null,
   "id": "c7af302d-3bdd-40a9-b444-32c59d5ff31d",
   "metadata": {},
   "outputs": [],
   "source": []
  }
 ],
 "metadata": {
  "kernelspec": {
   "display_name": "Python 3 (ipykernel)",
   "language": "python",
   "name": "python3"
  },
  "language_info": {
   "codemirror_mode": {
    "name": "ipython",
    "version": 3
   },
   "file_extension": ".py",
   "mimetype": "text/x-python",
   "name": "python",
   "nbconvert_exporter": "python",
   "pygments_lexer": "ipython3",
   "version": "3.11.7"
  }
 },
 "nbformat": 4,
 "nbformat_minor": 5
}

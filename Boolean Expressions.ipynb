{
 "cells": [
  {
   "cell_type": "markdown",
   "id": "bda24d9e-7334-427e-ac63-9efcc7798508",
   "metadata": {},
   "source": [
    "  ## <span style=\"color: purple; font-weight: bold;\">Boolean Expressions </span>\n",
    "\n",
    " \n",
    "**&emsp;The bool data type, standing for Boolean <br>**\n",
    "  - &ensp;**represents a binary value of either true or false**.<br> \n",
    "  - &ensp;**True and False are keywords, and capitalization is required**<br> \n",
    "\n"
   ]
  },
  {
   "cell_type": "markdown",
   "id": "9e3a73b5-a28c-4cb8-b075-c0c1e20a0b1a",
   "metadata": {},
   "source": [
    "<div style=\"background-color: #A020F0; padding: 10px; color: white;\"> </div>"
   ]
  },
  {
   "cell_type": "markdown",
   "id": "0a202d54-41a4-4b3e-b12c-6b575908bb10",
   "metadata": {},
   "source": [
    "### <span style=\"color: purple; font-weight: bold;\"> **Comparison operators** </span>\n",
    "\n",
    "**Equals:** a == b <br> **Not Equals:** a != b <br> **Less than:** a < b <br> **Less than or equal to**: a <= b <br> **Greater than:** a > b <br> **Greater than or equal to:** a >= b\n",
    "\n",
    "**Logical operators** and, or and not"
   ]
  },
  {
   "cell_type": "markdown",
   "id": "6e070438-5eb2-4909-aa68-92b300bd25d3",
   "metadata": {},
   "source": [
    "<div style=\"background-color: #A020F0; padding: 10px; color: white;\"> </div>"
   ]
  },
  {
   "cell_type": "markdown",
   "id": "de7d552b-52f1-457e-8599-dafe47887625",
   "metadata": {},
   "source": [
    "**is_fruit = \"True\"** -> string <br>\n",
    "**is_vegetable = 0** -> intger <br>\n",
    "**is_dessert = False** -> boolean <br>"
   ]
  },
  {
   "cell_type": "code",
   "execution_count": 7,
   "id": "296a8c5e-6daf-434a-8652-ce8a5d4d9d11",
   "metadata": {},
   "outputs": [
    {
     "name": "stdout",
     "output_type": "stream",
     "text": [
      "<class 'int'> <class 'bool'>\n"
     ]
    }
   ],
   "source": [
    "is_dessert = 0\n",
    "is_vegetable = False\n",
    "print(type(is_dessert),type(is_vegetable))\n"
   ]
  },
  {
   "cell_type": "markdown",
   "id": "c305a41f-1f45-4bca-a4df-cbc53d77a6f6",
   "metadata": {},
   "source": [
    "<div style=\"background-color: #A020F0; padding: 10px; color: white;\"> </div>"
   ]
  },
  {
   "cell_type": "markdown",
   "id": "6bb8f30b-4b6e-4caf-a074-d00deba05ed5",
   "metadata": {},
   "source": [
    "## <span style=\"color: purple; font-weight: bold;\"> Type conversion with bool() </span>\n",
    "\n",
    "\n",
    "**bool() converts a value to a Boolean value, True or False.<br>**\n",
    "\n",
    "**True**\n",
    "\n",
    "- Any non-zero number\n",
    "- Any non-empty string\n",
    "- Any string is True, except empty strings\n",
    "- Any number is True, except 0\n",
    "- Any list, tuple, set, and dictionary are True, except empty ones:\n",
    "\n",
    "\n",
    "**False** :  0 ,(Empty string)\n",
    " "
   ]
  },
  {
   "cell_type": "code",
   "execution_count": 6,
   "id": "f403df04-e190-475d-aea6-8acf3a9f3d8d",
   "metadata": {},
   "outputs": [
    {
     "name": "stdout",
     "output_type": "stream",
     "text": [
      "True\n",
      "True\n"
     ]
    }
   ],
   "source": [
    "print(bool(\"Hello\"))\n",
    "print(bool(15))"
   ]
  },
  {
   "cell_type": "code",
   "execution_count": 7,
   "id": "a7941e04-470f-449e-a8d2-8f4e8684841e",
   "metadata": {},
   "outputs": [
    {
     "name": "stdout",
     "output_type": "stream",
     "text": [
      "True\n",
      "True\n"
     ]
    }
   ],
   "source": [
    "x = \"Hello\"\n",
    "y = 15\n",
    "\n",
    "print(bool(x))\n",
    "print(bool(y))"
   ]
  },
  {
   "cell_type": "code",
   "execution_count": 14,
   "id": "b07a6268-2eaf-4cf5-8c5c-a671de1588b2",
   "metadata": {},
   "outputs": [
    {
     "name": "stdout",
     "output_type": "stream",
     "text": [
      "True\n",
      "True\n",
      "False\n"
     ]
    }
   ],
   "source": [
    "print(bool(\"abc\"))\n",
    "print(bool(123))\n",
    "print(bool([]))\n"
   ]
  },
  {
   "cell_type": "code",
   "execution_count": 16,
   "id": "74745441-fe19-4d49-a7f0-2cc0434f2e58",
   "metadata": {},
   "outputs": [
    {
     "name": "stdout",
     "output_type": "stream",
     "text": [
      "False\n",
      "False\n",
      "False\n",
      "False\n",
      "False\n",
      "False\n",
      "False\n"
     ]
    }
   ],
   "source": [
    "print(bool(False))\n",
    "print(bool(None))\n",
    "print(bool(0))\n",
    "print(bool(\"\"))\n",
    "print(bool(()))\n",
    "print(bool([]))\n",
    "print(bool({}))"
   ]
  },
  {
   "cell_type": "markdown",
   "id": "dac9016d-93bf-4d86-b3fe-d95d0972e6e8",
   "metadata": {},
   "source": [
    "<div style=\"background-color: #A020F0; padding: 10px; color: white;\"> </div>"
   ]
  },
  {
   "cell_type": "code",
   "execution_count": null,
   "id": "ab8f250c-7fe7-4daa-b91e-ace60ad60f94",
   "metadata": {},
   "outputs": [],
   "source": [
    "Given is_on = True, what is the value of each expression?\n",
    "\n",
    "12. float(is_on)\n",
    "a. 0.0\n",
    "b. 1.0\n",
    "Ans: 1\n",
    "\n",
    "13. str(is_on)\n",
    "a. \"is_on\"\n",
    "b. \"True\"\n",
    "Ans: \"True\"\n",
    "\n",
    "14. int(is_on)\n",
    "a. 0\n",
    "b. 1\n",
    "Ans: 1"
   ]
  },
  {
   "cell_type": "markdown",
   "id": "6d975e54-b62c-4705-ae00-9be89f48a62d",
   "metadata": {},
   "source": [
    "<div style=\"background-color: #A020F0; padding: 10px; color: white;\"> </div>"
   ]
  },
  {
   "cell_type": "code",
   "execution_count": null,
   "id": "cbb2178f-eef0-4e13-bb4f-8149949bb24a",
   "metadata": {},
   "outputs": [],
   "source": [
    "x = 14\n",
    "compare_result = (x <= 13)\n",
    "a. True\n",
    "b. False\n",
    "ans : False \n",
    "\n",
    "16. w = 0\n",
    "compare_result = (w != 0.4)\n",
    "a. True\n",
    "b. False\n",
    "ans : False \n",
    "\n",
    "\n",
    "17. v = 4\n",
    "compare_result = (v < 4.0)\n",
    "a. True\n",
    "b. False\n",
    "ans : False \n",
    "\n",
    "18. y = 2\n",
    "compare_result = (y > \"ab\")\n",
    "a. True\n",
    "b. False\n",
    "c. Error\n",
    "ans : Error\n",
    "\n",
    "19. z = \"cilantro\"\n",
    "compare_result = (z == \"coriander\")\n",
    "a. True\n",
    "b. False\n",
    "ans : False \n",
    "\n",
    "20. a = \"dog\"\n",
    "compare_result = (a < \"cat\")\n",
    "a. True\n",
    "b. False\n",
    "ans : False \n",
    "String comparison is done lexicographically in Python, and \"dog\" comes after \"cat\", so this is False"
   ]
  },
  {
   "cell_type": "markdown",
   "id": "12d266bb-ca37-4c38-a686-2b5ff760731d",
   "metadata": {},
   "source": [
    "<div style=\"background-color: #A020F0; padding: 10px; color: white;\"> </div>"
   ]
  },
  {
   "cell_type": "markdown",
   "id": "2a56b117-d474-46ff-9361-d3814ddfe733",
   "metadata": {},
   "source": [
    "**\"It's Friday, I'm in love\" —from \"Friday I'm in Love,\" a song released by the Cure in 1992.\n",
    "Write a program that reads in the day of the week. Assign the Boolean variable, in_love, with the result of\n",
    "whether the day is Friday or not**\n"
   ]
  },
  {
   "cell_type": "code",
   "execution_count": 5,
   "id": "73adbf96-0e55-46e5-85d1-f88efa9025e3",
   "metadata": {},
   "outputs": [
    {
     "name": "stdin",
     "output_type": "stream",
     "text": [
      "Enter the day of the week:  friday\n"
     ]
    },
    {
     "name": "stdout",
     "output_type": "stream",
     "text": [
      "It's friday I'm in love? True\n"
     ]
    }
   ],
   "source": [
    "\n",
    "day = input(\"Enter the day of the week: \")\n",
    "\n",
    "\n",
    "in_love = (day == 'friday')\n",
    "\n",
    "print(\"It's\", day, \"I'm in love?\", in_love)\n"
   ]
  },
  {
   "cell_type": "markdown",
   "id": "105d245f-073e-483f-a010-3ed1613d96b9",
   "metadata": {},
   "source": [
    "<div style=\"background-color: #A020F0; padding: 10px; color: white;\"> </div>"
   ]
  },
  {
   "cell_type": "markdown",
   "id": "db1d3d72-3837-4867-924e-ec11648ed933",
   "metadata": {},
   "source": [
    "**Write a program that reads in an integer and prints whether the integer is even or not. Remember, a\n",
    "number is even if the number is divisible by 2. To test this use number % 2 == 0. Ex: If the input is 6, the\n",
    "output is \"6 is even: True\".**"
   ]
  },
  {
   "cell_type": "code",
   "execution_count": 73,
   "id": "2a479b9d-8ba0-4b98-a248-5bc85afa1f8c",
   "metadata": {},
   "outputs": [
    {
     "name": "stdin",
     "output_type": "stream",
     "text": [
      "The number is:  6.54\n"
     ]
    },
    {
     "data": {
      "text/html": [
       "<b>6 is even? </b> True"
      ],
      "text/plain": [
       "<IPython.core.display.HTML object>"
      ]
     },
     "metadata": {},
     "output_type": "display_data"
    }
   ],
   "source": [
    "\n",
    "\n",
    "from IPython.display import display, HTML\n",
    "\n",
    "# Read the number\n",
    "x = input(\"The number is: \")\n",
    "\n",
    "# Check if the number is even\n",
    "y = int(float(x)) \n",
    "in_even = (y % 2 == 0)\n",
    "\n",
    "# Output the result with \"is even?\" in bold\n",
    "display(HTML(f\"<b>{y} is even? </b> {in_even}\"))\n"
   ]
  },
  {
   "cell_type": "code",
   "execution_count": 67,
   "id": "f0e507cf-7d3d-4e09-98fc-c85e3f28b306",
   "metadata": {},
   "outputs": [
    {
     "name": "stdin",
     "output_type": "stream",
     "text": [
      "the number is :  6.4\n"
     ]
    },
    {
     "name": "stdout",
     "output_type": "stream",
     "text": [
      "6 is even?:  True\n"
     ]
    }
   ],
   "source": [
    "\n",
    "x = input(\"the number is : \" )\n",
    "y = int(float(x)) \n",
    "in_even = (y % 2 == 0) \n",
    "print( y ,\"is even?: \" , in_even  )\n"
   ]
  },
  {
   "cell_type": "markdown",
   "id": "240ae61d-4204-49fc-9705-ffbd43ee8753",
   "metadata": {},
   "source": [
    "<div style=\"background-color: #A020F0; padding: 10px; color: white;\"> </div>"
   ]
  },
  {
   "cell_type": "markdown",
   "id": "e876b4cd-1a8a-4b3a-9a05-823900b96dff",
   "metadata": {},
   "source": [
    "## -Len- method \n",
    "**If it returns a non-zero value, it is True; otherwise, it is False**"
   ]
  },
  {
   "cell_type": "code",
   "execution_count": 114,
   "id": "78b4a6b0-febe-4e74-be0d-0b8f1afe6c62",
   "metadata": {},
   "outputs": [
    {
     "name": "stdin",
     "output_type": "stream",
     "text": [
      " baraah mdalal\n"
     ]
    },
    {
     "name": "stdout",
     "output_type": "stream",
     "text": [
      "Length of myobj: 13\n",
      "True\n"
     ]
    }
   ],
   "source": [
    "name = input()\n",
    "\n",
    "class myclass:\n",
    "    def __init__(self, name):\n",
    "        self.name = name \n",
    "\n",
    "    def __len__(self):\n",
    "        return len(self.name)\n",
    "\n",
    "myobj = myclass(name)\n",
    "print(f\"Length of myobj: {len(myobj)}\")  \n",
    "print(bool(name)) \n"
   ]
  },
  {
   "cell_type": "code",
   "execution_count": 115,
   "id": "36a6f84a-c5bb-4187-84fa-7cc32be6201b",
   "metadata": {},
   "outputs": [
    {
     "name": "stdout",
     "output_type": "stream",
     "text": [
      "Length of myobj: 5\n",
      "Is myobj truthy? True\n",
      "myobj is considered True in a boolean context.\n"
     ]
    }
   ],
   "source": [
    "class myclass:\n",
    "    def __len__(self):\n",
    "        return 5\n",
    "myobj = myclass()\n",
    "length = len(myobj)  \n",
    "print(f\"Length of myobj: {length}\")\n",
    "is_truthy = bool(myobj)  \n",
    "print(f\"Is myobj truthy? {is_truthy}\")\n",
    "if myobj:\n",
    "    print(\"myobj is considered True in a boolean context.\")\n",
    "else:\n",
    "    print(\"myobj is considered False in a boolean context.\")\n"
   ]
  },
  {
   "cell_type": "code",
   "execution_count": 100,
   "id": "3312e0d9-1bd9-41ac-9162-8f758083a1ab",
   "metadata": {},
   "outputs": [
    {
     "name": "stdout",
     "output_type": "stream",
     "text": [
      "False\n"
     ]
    }
   ],
   "source": [
    "class myclass():\n",
    "  def __len__(self):\n",
    "    return 0\n",
    "\n",
    "myobj = myclass()\n",
    "print(bool(myobj))"
   ]
  },
  {
   "cell_type": "markdown",
   "id": "e729ca6a-3dc0-4e88-87d9-ff7dfb7c7ede",
   "metadata": {},
   "source": [
    "## Functions can Return a Boolean\n",
    "You can create functions that returns a Boolean Value:"
   ]
  },
  {
   "cell_type": "code",
   "execution_count": 117,
   "id": "bd46a9e4-fb13-45d3-8728-fb540e69f56b",
   "metadata": {},
   "outputs": [
    {
     "name": "stdout",
     "output_type": "stream",
     "text": [
      "True\n"
     ]
    }
   ],
   "source": [
    "def myFunction() :\n",
    "  return True\n",
    "\n",
    "print(myFunction())"
   ]
  },
  {
   "cell_type": "code",
   "execution_count": 118,
   "id": "bfdeeb60-6617-4ac9-9808-6eab2b2bfb81",
   "metadata": {},
   "outputs": [
    {
     "name": "stdout",
     "output_type": "stream",
     "text": [
      "YES!\n"
     ]
    }
   ],
   "source": [
    "def myFunction() :\n",
    "  return True\n",
    "\n",
    "if myFunction():\n",
    "  print(\"YES!\")\n",
    "else:\n",
    "  print(\"NO!\")"
   ]
  },
  {
   "cell_type": "markdown",
   "id": "68103b37-b2a2-448e-86a0-9c2aa8ba5ebb",
   "metadata": {},
   "source": [
    "## The isinstance( )\n",
    "\n",
    "The isinstance() function in Python is used to check if an object is an instance (or subclass instance) of a specified class or type. It returns True if the object is an instance of the specified class or a subclass thereof, and False otherwise"
   ]
  },
  {
   "cell_type": "code",
   "execution_count": 121,
   "id": "1f3027c7-f144-45fb-9502-8d0d23bb490e",
   "metadata": {},
   "outputs": [
    {
     "name": "stdout",
     "output_type": "stream",
     "text": [
      "False\n",
      "True\n",
      "True\n"
     ]
    }
   ],
   "source": [
    "x = 200.6\n",
    "y = \"baraa\"\n",
    "\n",
    "print(isinstance(x, int))\n",
    "print(isinstance(x, float))\n",
    "print(isinstance(y, str))"
   ]
  },
  {
   "cell_type": "markdown",
   "id": "9314be4b-6630-4302-b4a1-f46ef72ac45e",
   "metadata": {},
   "source": [
    "## Complex Boolean Expressions"
   ]
  },
  {
   "cell_type": "code",
   "execution_count": null,
   "id": "d0129972-158a-401a-97b2-b48185d62ee5",
   "metadata": {},
   "outputs": [],
   "source": [
    "if 18.5 <= weight / height**2 < 25:\n",
    "    print(\"BMI is considered 'normal'\")\n",
    "\n",
    "if is_raining and is_sunny:\n",
    "    print(\"Is there a rainbow?\")\n",
    "\n",
    "if (not unsubscribed) and (location == \"USA\" or location == \"CAN\"):\n",
    "    print(\"send email\")"
   ]
  },
  {
   "cell_type": "code",
   "execution_count": 134,
   "id": "38711b52-e616-4ba6-a70b-2f5a8fd6ea3c",
   "metadata": {},
   "outputs": [
    {
     "name": "stdout",
     "output_type": "stream",
     "text": [
      "is_sunny: False is_raining: True\n"
     ]
    }
   ],
   "source": [
    "is_raining = True \n",
    "is_sunny = False\n",
    "if is_raining and is_sunny:\n",
    "    print(\"Is there a rainbow?\")\n",
    "else:\n",
    "    print(\"is_sunny:\",is_sunny ,\"is_raining:\",is_raining)"
   ]
  },
  {
   "cell_type": "code",
   "execution_count": 153,
   "id": "b51cc99a-3b24-4d60-bf1d-1500ec8b00e1",
   "metadata": {},
   "outputs": [
    {
     "name": "stdin",
     "output_type": "stream",
     "text": [
      " 1\n",
      " 2\n"
     ]
    },
    {
     "name": "stdout",
     "output_type": "stream",
     "text": [
      "No, the sum is not equal to 10\n"
     ]
    }
   ],
   "source": [
    "A = float(input())\n",
    "B = float(input())\n",
    "\n",
    "if (A + B) == 10:\n",
    "    print(\"Yes, the sum equals 10\")\n",
    "else:\n",
    "    print(\"No, the sum is not equal to 10\")\n",
    "\n",
    "##converts the inputs to integers before adding them and comparing the sum to 10.\n"
   ]
  },
  {
   "cell_type": "markdown",
   "id": "6e8dd9de-ce8c-4370-9fe2-b7a880069f0f",
   "metadata": {},
   "source": [
    "## Good and Bad Examples"
   ]
  },
  {
   "cell_type": "code",
   "execution_count": null,
   "id": "b07350f3-5df1-46ae-96e0-162e95c1c102",
   "metadata": {},
   "outputs": [],
   "source": [
    "1.Don't use True or False as conditions\n",
    "\n",
    "## Bad example\n",
    "if True:\n",
    "    print(\"This indented code will always get run.\")\n",
    "    \n",
    "## Another bad example\n",
    "if is_cold or not is_cold:\n",
    "    print(\"This indented code will always get run.\")\n",
    "\n"
   ]
  },
  {
   "cell_type": "code",
   "execution_count": null,
   "id": "79e30437-73ce-419e-839b-2665a0d405c8",
   "metadata": {},
   "outputs": [],
   "source": [
    "2. Be careful writing expressions that use logical operators\n",
    "\n",
    "## Bad example\n",
    "if weather == \"snow\" or \"rain\":\n",
    "    print(\"Wear boots!\")"
   ]
  },
  {
   "cell_type": "code",
   "execution_count": null,
   "id": "59017290-5341-4041-beaa-accfba48f1e6",
   "metadata": {},
   "outputs": [],
   "source": [
    "3. Don't compare a boolean variable with == True or == False\n",
    "\n",
    "This comparison isn’t necessary, since the boolean variable itself is a boolean expression.\n",
    "\n",
    "## Bad example\n",
    "if is_cold == True:\n",
    "    print(\"The weather is cold!\")\n",
    "\n",
    "\n",
    "## Good example\n",
    "if is_cold:\n",
    "    print(\"The weather is cold!\")"
   ]
  },
  {
   "cell_type": "markdown",
   "id": "5420b458-815c-4f76-9b6c-d12aa47167eb",
   "metadata": {},
   "source": [
    "## Truth Value Testing\n",
    "\n",
    "if we use a non-boolean object as a condition in an if statement in place of the boolean expression, Python will check for its truth value and use that to decide whether or not to run the indented code. By default, the truth value of an object in Python is considered True unless specified as False in the documentation.\n",
    "\n",
    "\n",
    "\n",
    "  "
   ]
  },
  {
   "cell_type": "code",
   "execution_count": 162,
   "id": "a408758b-d050-4f89-9b1f-8cef980cb196",
   "metadata": {},
   "outputs": [
    {
     "name": "stdout",
     "output_type": "stream",
     "text": [
      "No names\n"
     ]
    }
   ],
   "source": [
    "name = \"\"\n",
    "if name: \n",
    "    print( \" My name is {}\".format(name))\n",
    "else:\n",
    "    print(\"No names\") "
   ]
  },
  {
   "cell_type": "code",
   "execution_count": 161,
   "id": "9fd31c67-ab43-4477-98ce-56db6d9a79f6",
   "metadata": {},
   "outputs": [
    {
     "name": "stdout",
     "output_type": "stream",
     "text": [
      " My name is baraah\n"
     ]
    }
   ],
   "source": [
    "name = \"baraah\"\n",
    "if name: \n",
    "    print( \" My name is {}\".format(name))\n",
    "else:\n",
    "    print(\"No names\") "
   ]
  },
  {
   "cell_type": "code",
   "execution_count": null,
   "id": "24f14abb-e509-4887-8580-ca1d813a2fbd",
   "metadata": {},
   "outputs": [],
   "source": []
  }
 ],
 "metadata": {
  "kernelspec": {
   "display_name": "Python 3 (ipykernel)",
   "language": "python",
   "name": "python3"
  },
  "language_info": {
   "codemirror_mode": {
    "name": "ipython",
    "version": 3
   },
   "file_extension": ".py",
   "mimetype": "text/x-python",
   "name": "python",
   "nbconvert_exporter": "python",
   "pygments_lexer": "ipython3",
   "version": "3.11.7"
  }
 },
 "nbformat": 4,
 "nbformat_minor": 5
}
